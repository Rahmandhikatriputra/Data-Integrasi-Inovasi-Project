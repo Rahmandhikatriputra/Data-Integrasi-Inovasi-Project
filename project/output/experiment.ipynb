{
 "cells": [
  {
   "cell_type": "markdown",
   "id": "102029de",
   "metadata": {},
   "source": [
    "Import libraries"
   ]
  },
  {
   "cell_type": "code",
   "execution_count": 54,
   "id": "6c59b108",
   "metadata": {},
   "outputs": [],
   "source": [
    "import pandas as pd\n",
    "from scipy import stats\n",
    "import numpy as np\n",
    "import csv"
   ]
  },
  {
   "cell_type": "markdown",
   "id": "6b1836c9",
   "metadata": {},
   "source": [
    "Data preparation"
   ]
  },
  {
   "cell_type": "code",
   "execution_count": 64,
   "id": "6860bfc0",
   "metadata": {},
   "outputs": [],
   "source": [
    "df = pd.read_csv(\"transformed_master_data.csv\")\n",
    "\n",
    "df = df[[\"customer_id\", \"timestamp\", \"total_price\"]]\n",
    "\n",
    "df[\"timestamp\"] = pd.to_datetime(df[\"timestamp\"].str[0:-4], format = \"%Y-%m-%d %H:%M:%S\")\n",
    "df[\"timestamp\"] = df[\"timestamp\"].astype(\"int64\") // 10**9\n",
    "\n",
    "customer_IDs = list(df[\"customer_id\"].unique())"
   ]
  },
  {
   "cell_type": "markdown",
   "id": "30f959a9",
   "metadata": {},
   "source": [
    "Create a for loop to calculate linear regression model on each customer"
   ]
  },
  {
   "cell_type": "code",
   "execution_count": 65,
   "id": "e8821faa",
   "metadata": {},
   "outputs": [],
   "source": [
    "result = []\n",
    "\n",
    "for customer_id in customer_IDs:\n",
    "    filtered_df = df[df[\"customer_id\"] == customer_id].sort_values(by = \"timestamp\")\n",
    "    x = np.array(filtered_df[\"timestamp\"])\n",
    "    y = np.array(filtered_df[\"total_price\"])\n",
    "    try:\n",
    "        slope, intercept, r_value, p_value, std_err = stats.linregress(x,y)\n",
    "        result.append({\"customer_id\" : customer_id, \"slope_calculate_result\" : float(slope)})\n",
    "        # result.update({customer_id : float(slope)})\n",
    "    except ValueError:\n",
    "        result.append({\"customer_id\" : customer_id, \"slope_calculate_result\" : \"NaN\"})\n",
    "        # result.update({customer_id : None})"
   ]
  },
  {
   "cell_type": "markdown",
   "id": "3851ac68",
   "metadata": {},
   "source": [
    "Convert result into csv"
   ]
  },
  {
   "cell_type": "code",
   "execution_count": 66,
   "id": "b3a0596d",
   "metadata": {},
   "outputs": [],
   "source": [
    "fieldnames = [\"customer_id\", \"slope_calculate_result\"]\n",
    "\n",
    "csv_filename = \"result.csv\"\n",
    "with open(csv_filename, mode='w', newline='') as file:\n",
    "    writer = csv.DictWriter(file, fieldnames = fieldnames)\n",
    "    writer.writeheader()\n",
    "    writer.writerows(result)"
   ]
  }
 ],
 "metadata": {
  "kernelspec": {
   "display_name": "purwadhika-module1",
   "language": "python",
   "name": "python3"
  },
  "language_info": {
   "codemirror_mode": {
    "name": "ipython",
    "version": 3
   },
   "file_extension": ".py",
   "mimetype": "text/x-python",
   "name": "python",
   "nbconvert_exporter": "python",
   "pygments_lexer": "ipython3",
   "version": "3.12.10"
  }
 },
 "nbformat": 4,
 "nbformat_minor": 5
}
